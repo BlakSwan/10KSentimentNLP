{
 "cells": [
  {
   "cell_type": "code",
   "execution_count": 1,
   "metadata": {},
   "outputs": [],
   "source": [
    "import pandas as pd\n",
    "import pickle\n",
    "from sec_api import ExtractorApi\n",
    "import dateutil.parser\n",
    "\n",
    "extractorApi = ExtractorApi(\"YOUR API KEY\")"
   ]
  },
  {
   "cell_type": "code",
   "execution_count": 2,
   "metadata": {},
   "outputs": [],
   "source": [
    "CompanyTickers = [\n",
    "    'AAPl',\n",
    "    'TSLA', \n",
    "    'LULU',\n",
    "    'SQ',\n",
    "    'MSFT',\n",
    "    'GOOG', \n",
    "    'KO',\n",
    "    'XOM',\n",
    "    'MCD',\n",
    "    'GS',\n",
    "    'JPM'\n",
    "]"
   ]
  },
  {
   "cell_type": "code",
   "execution_count": 3,
   "metadata": {},
   "outputs": [],
   "source": [
    "def getReports(filingsList):\n",
    "    for url in filingsList:\n",
    "        del url[0]\n",
    "        filing_url = url[0]\n",
    "        filing_date = url[1]\n",
    "        dayofyear = dateutil.parser.parse(filing_date).strftime(\"%j\")\n",
    "        if url[-2] == '10-K':\n",
    "            # get the original HTML of section 7 \"Management’s Discussion and Analysis of Financial Condition and Results of Operations\"\n",
    "\n",
    "            section_html10K = extractorApi.get_section(filing_url, \"7\", \"text\")\n",
    "            # insertVaribleIntoTable(dayofyear, company_name, section_html)\n",
    "            url.append(section_html10K)\n",
    "            url.append(dayofyear)\n",
    "        elif url[-2] == '10-Q':\n",
    "            # extract section 1A \"Risk Factors\" in part 2 as cleaned text\n",
    "            section_html10Q = extractorApi.get_section(filing_url, \"part1item2\", \"text\")\n",
    "            url.append(section_html10Q)\n",
    "            url.append(dayofyear)\n",
    "        else:\n",
    "            pass\n",
    "    filingsList = [x for x in filingsList if len(x) > 4]\n",
    "    df = pd.DataFrame(filingsList, columns=['url', 'date', 'formType', 'ticker', 'MDA', 'dayofyear'])\n",
    "    ticker = df.iloc[0]['ticker']\n",
    "    df.to_csv(ticker + 'SEDAR.csv')\n",
    "    "
   ]
  },
  {
   "cell_type": "code",
   "execution_count": 4,
   "metadata": {},
   "outputs": [
    {
     "name": "stdout",
     "output_type": "stream",
     "text": [
      "JPM done\n"
     ]
    }
   ],
   "source": [
    "for ticker in CompanyTickers:\n",
    "    fileString = ticker + '.csv'\n",
    "    fileList = pd.read_csv(fileString).reset_index(drop=True).values.tolist()\n",
    "    getReports(fileList)\n",
    "    print(ticker, 'done')"
   ]
  }
 ],
 "metadata": {
  "kernelspec": {
   "display_name": "Python 3.9.12 ('mini_env')",
   "language": "python",
   "name": "python3"
  },
  "language_info": {
   "codemirror_mode": {
    "name": "ipython",
    "version": 3
   },
   "file_extension": ".py",
   "mimetype": "text/x-python",
   "name": "python",
   "nbconvert_exporter": "python",
   "pygments_lexer": "ipython3",
   "version": "3.9.12"
  },
  "orig_nbformat": 4,
  "vscode": {
   "interpreter": {
    "hash": "f75587dacee627cd4f922b679bcd65529678f042ef87d889d13fa7dbfc6775aa"
   }
  }
 },
 "nbformat": 4,
 "nbformat_minor": 2
}
