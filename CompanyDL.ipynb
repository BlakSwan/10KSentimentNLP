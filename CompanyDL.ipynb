{
 "cells": [
  {
   "cell_type": "code",
   "execution_count": 3,
   "metadata": {},
   "outputs": [],
   "source": [
    "from sec_api import QueryApi\n",
    "import pandas as pd\n",
    "\n",
    "def getFilingsList(ticker):\n",
    "    filingsList = []\n",
    "    queryApi = QueryApi(api_key=\"12cf8a55b5c582ff0ea4d1880850b516b4683e1cb042e7b9ff6a320b4099eaa5\")\n",
    "    forms = ['10-K', '10-Q']\n",
    "    dates = '{2000-01-01 TO 2022-12-31}'\n",
    "    for form in forms:\n",
    "        query_string = f\"ticker:{ticker} AND filedAt:{dates} AND formType:\\\"{form}\\\"\"\n",
    "        query = {\n",
    "        \"query\": { \"query_string\": { \n",
    "            \"query\": query_string \n",
    "            } },\n",
    "        \"from\": \"0\",\n",
    "        \"size\": \"200\",\n",
    "        \"sort\": [{ \"filedAt\": {\"order\": \"desc\"}}]\n",
    "        }\n",
    "        filings = queryApi.get_filings(query)\n",
    "        for filing in filings['filings']:\n",
    "            filingsList.append([filing['linkToTxt'], filing['filedAt'], filing['formType'], filing['ticker']])\n",
    "    return filingsList\n",
    "\n",
    "CompanyTickers = [\n",
    "    'AAPl',\n",
    "    'TSLA', \n",
    "    'LULU',\n",
    "    'SQ',\n",
    "    'MSFT',\n",
    "    'GOOG', \n",
    "    'KO',\n",
    "    'XOM',\n",
    "    'MCD'\n",
    "    'GS',\n",
    "    'JPM'\n",
    "]\n",
    "\n",
    "for ticker in CompanyTickers:\n",
    "    reports = getFilingsList(ticker)\n",
    "    df = pd.DataFrame(reports, columns=['url', 'date', 'formType', 'ticker'])\n",
    "    df.to_csv(ticker + '.csv')"
   ]
  }
 ],
 "metadata": {
  "kernelspec": {
   "display_name": "Python 3.9.12 ('mini_env')",
   "language": "python",
   "name": "python3"
  },
  "language_info": {
   "codemirror_mode": {
    "name": "ipython",
    "version": 3
   },
   "file_extension": ".py",
   "mimetype": "text/x-python",
   "name": "python",
   "nbconvert_exporter": "python",
   "pygments_lexer": "ipython3",
   "version": "3.9.12"
  },
  "orig_nbformat": 4,
  "vscode": {
   "interpreter": {
    "hash": "f75587dacee627cd4f922b679bcd65529678f042ef87d889d13fa7dbfc6775aa"
   }
  }
 },
 "nbformat": 4,
 "nbformat_minor": 2
}
