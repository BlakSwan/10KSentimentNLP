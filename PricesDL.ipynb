{
 "cells": [
  {
   "cell_type": "code",
   "execution_count": 6,
   "metadata": {},
   "outputs": [],
   "source": [
    "CompanyTickers = [\n",
    "    'AAPl',\n",
    "    'TSLA', \n",
    "    'LULU',\n",
    "    'SQ',\n",
    "    'MSFT',\n",
    "    'GOOG', \n",
    "    'KO',\n",
    "    'XOM',\n",
    "    'MCD',\n",
    "    'GS',\n",
    "    'JPM'\n",
    "]"
   ]
  },
  {
   "cell_type": "code",
   "execution_count": 7,
   "metadata": {},
   "outputs": [],
   "source": [
    "import requests\n",
    "import pandas as pd \n",
    "import time\n",
    "\n",
    "\n",
    "for ticker in CompanyTickers:\n",
    "    url = f'https://www.alphavantage.co/query?function=TIME_SERIES_DAILY&symbol={ticker}&apikey=RKUJN15IMSDZZ6JM&outputsize=full&datatype=csv'\n",
    "    r = requests.get(url)\n",
    "    \n",
    "    # convert text data in to a list of of list\n",
    "    data = [row.strip().split(',') for row in r.text.split('\\n')]\n",
    "\n",
    "    # load data into a dataframe\n",
    "    df = pd.DataFrame(data)\n",
    "    df.columns = ['timestamp', 'open', 'high', 'low', 'close', 'volume']\n",
    "    df = df.drop([0])\n",
    "    df.to_csv(f'/Users/chrisjackson/LHL/Final Project/Prices/{ticker}.csv')\n",
    "    time.sleep(30)\n",
    "    \n",
    "    "
   ]
  }
 ],
 "metadata": {
  "kernelspec": {
   "display_name": "Python 3.9.12 ('mini_env')",
   "language": "python",
   "name": "python3"
  },
  "language_info": {
   "codemirror_mode": {
    "name": "ipython",
    "version": 3
   },
   "file_extension": ".py",
   "mimetype": "text/x-python",
   "name": "python",
   "nbconvert_exporter": "python",
   "pygments_lexer": "ipython3",
   "version": "3.9.12"
  },
  "orig_nbformat": 4,
  "vscode": {
   "interpreter": {
    "hash": "f75587dacee627cd4f922b679bcd65529678f042ef87d889d13fa7dbfc6775aa"
   }
  }
 },
 "nbformat": 4,
 "nbformat_minor": 2
}
