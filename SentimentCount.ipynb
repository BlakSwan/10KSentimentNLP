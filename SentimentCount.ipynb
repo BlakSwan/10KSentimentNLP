{
 "cells": [
  {
   "cell_type": "code",
   "execution_count": 1,
   "metadata": {},
   "outputs": [],
   "source": [
    "import pandas as pd\n",
    "import pickle"
   ]
  },
  {
   "cell_type": "code",
   "execution_count": 9,
   "metadata": {},
   "outputs": [],
   "source": [
    "CompanyTickers = [\n",
    "    'AAPl',\n",
    "    'TSLA', \n",
    "    'LULU',\n",
    "    'SQ',\n",
    "    'MSFT',\n",
    "    'GOOG', \n",
    "    'KO',\n",
    "    'XOM',\n",
    "    'MCD',\n",
    "    # 'GS',\n",
    "    'JPM'\n",
    "]"
   ]
  },
  {
   "cell_type": "code",
   "execution_count": 10,
   "metadata": {},
   "outputs": [],
   "source": [
    "def finalize(ticker):\n",
    "    df = pd.read_pickle(f'/Users/chrisjackson/LHL/Final Project/{ticker}Analyzed.pkl')\n",
    "    df = df.drop(['url', 'MDA', 'MDAList'], axis=1)\n",
    "    posList = []\n",
    "    negList = []\n",
    "    scoreTotalList = []\n",
    "    sentCountList = []\n",
    "    scoreList = []\n",
    "    for index, row in df.iterrows():\n",
    "        positives = 0\n",
    "        negatives = 0\n",
    "        scoreTotal = 0\n",
    "        sentenceCount = 0\n",
    "        scores = {'Negative':-1, 'Neutral': 0, 'Positive': 1}\n",
    "        for res in row['analyzed']:\n",
    "            if res[0]['label'] == 'Negative': \n",
    "                negatives += 1\n",
    "            elif res[0]['label'] == 'Positive':\n",
    "                positives += 1 \n",
    "            else:\n",
    "                pass\n",
    "            scoreTotal += scores[res[0]['label']]\n",
    "        sentenceCount += 1\n",
    "        score = scoreTotal / sentenceCount\n",
    "        posList.append(positives)\n",
    "        negList.append(negatives)\n",
    "        scoreTotalList.append(scoreTotal)\n",
    "        sentCountList.append(sentenceCount)\n",
    "        scoreList.append(score)\n",
    "        \n",
    "    df['positives'] = posList\n",
    "    df['negatives'] = negList\n",
    "    df['scoreTotal'] = scoreTotalList\n",
    "    df['sentenceCount'] = sentCountList\n",
    "    df['score'] = scoreList\n",
    "        \n",
    "    df.to_pickle(f'{ticker}FINAL.pkl')\n"
   ]
  },
  {
   "cell_type": "code",
   "execution_count": 11,
   "metadata": {},
   "outputs": [],
   "source": [
    "for ticker in CompanyTickers:\n",
    "    finalize(ticker)"
   ]
  },
  {
   "cell_type": "code",
   "execution_count": null,
   "metadata": {},
   "outputs": [],
   "source": []
  }
 ],
 "metadata": {
  "kernelspec": {
   "display_name": "Python 3.9.10 ('base')",
   "language": "python",
   "name": "python3"
  },
  "language_info": {
   "codemirror_mode": {
    "name": "ipython",
    "version": 3
   },
   "file_extension": ".py",
   "mimetype": "text/x-python",
   "name": "python",
   "nbconvert_exporter": "python",
   "pygments_lexer": "ipython3",
   "version": "3.9.10"
  },
  "orig_nbformat": 4,
  "vscode": {
   "interpreter": {
    "hash": "cd12651b55b810fd74b937ad1b4f451cb65de80b4ea71b2ba4ddae186f9edd5d"
   }
  }
 },
 "nbformat": 4,
 "nbformat_minor": 2
}
